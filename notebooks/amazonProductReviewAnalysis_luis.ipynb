{
 "cells": [
  {
   "cell_type": "code",
   "execution_count": 1,
   "metadata": {},
   "outputs": [
    {
     "data": {
      "text/plain": [
       "<module 'customHelpers' from '/Users/luisedumuller/Documents/Studies/MDS/CloudComputing/Assignment2/COMP5349_AmazonProductReviewAnalysis/notebooks/customHelpers.py'>"
      ]
     },
     "execution_count": 1,
     "metadata": {},
     "output_type": "execute_result"
    }
   ],
   "source": [
    "# library imports \n",
    "import sys\n",
    "from importlib import reload\n",
    "#import findspark\n",
    "import customHelpers as helper\n",
    "#findspark.init()\n",
    "from pyspark import SparkContext\n",
    "from pyspark.sql import SparkSession\n",
    "from pyspark.sql import SQLContext\n",
    "from pyspark.sql.types import StructType, StructField, StringType,IntegerType, FloatType,BooleanType,DateType\n",
    "\n",
    "reload(helper)"
   ]
  },
  {
   "cell_type": "code",
   "execution_count": 2,
   "metadata": {},
   "outputs": [],
   "source": [
    "# initialise the session \n",
    "\n",
    "spark = SparkSession \\\n",
    "    .builder \\\n",
    "    .appName(\"Amazon Product Review Analysis\") \\\n",
    "    .getOrCreate()"
   ]
  },
  {
   "cell_type": "markdown",
   "metadata": {},
   "source": [
    "## Load Dataset \n",
    "\n",
    "| Column | Description | \n",
    "| :--- | :--- |\n",
    "| marketplace | 2 letter country code of the marketplace where the review was written. |\n",
    "| customer_id | Random identifier that can be used to aggregate reviews written by a single author. |\n",
    "| review_id | The unique ID of the review. |\n",
    "| product_id | The unique Product ID the review pertains to. In the multilingual dataset the reviews for the same product in different countries can be grouped by the same product_id. | \n",
    "| product_parent | Random identifier that can be used to aggregate reviews for the same product. |\n",
    "| product_title | Title of the product. | \n",
    "| product_category | Broad product category that can be used to group reviews (also used to group the dataset into  coherent parts). | \n",
    "| star_rating | the 1-5 star rating of the review. | \n",
    "| helpful_votes | Number of helpful votes. | \n",
    "| total_votes | Number of total votes the review received. | \n",
    "| vine | Review was written as part of the Vine program. |\n",
    "| verified_purchase | The review is on a verified purchase. |\n",
    "| review_headline | The title of the review. |\n",
    "| review_body | The review text. |\n",
    "| review_date | The date the review was written | \n",
    "\n",
    "\n",
    "DATA FORMAT\n",
    "Tab ('\\t') separated text file, without quote or escape characters.\n",
    "First line in each file is header; 1 line corresponds to 1 record."
   ]
  },
  {
   "cell_type": "code",
   "execution_count": 3,
   "metadata": {},
   "outputs": [
    {
     "name": "stdout",
     "output_type": "stream",
     "text": [
      "CPU times: user 2.04 ms, sys: 1.11 ms, total: 3.15 ms\n",
      "Wall time: 1.89 s\n"
     ]
    }
   ],
   "source": [
    "# load the data set \n",
    "#review_data = '../data/sample_us.tsv'\n",
    "# actual data load - PERFORMANCE WARNING ON LOCAL MACHINE\n",
    "review_data = '../data/amazon_reviews_us_Music_v1_00.tsv'\n",
    "\n",
    "aws_product_review_schema = StructType([\n",
    "    StructField(\"marketplace\", StringType(), True),\n",
    "    StructField(\"customer_id\", StringType(), True),\n",
    "    StructField(\"review_id\", StringType(), True),\n",
    "    StructField(\"product_id\",StringType(),True),\n",
    "    StructField(\"product_parent\",StringType(),False),\n",
    "    StructField(\"product_title\", StringType(), False),\n",
    "    StructField(\"product_category\", StringType(), False),\n",
    "    StructField(\"star_rating\", IntegerType(), False),\n",
    "    StructField(\"helpful_votes\",IntegerType(),False),\n",
    "    StructField(\"total_votes\", IntegerType(), False),\n",
    "    StructField(\"vine\",StringType(),False),\n",
    "    StructField(\"verified_purchase\", StringType(), False),\n",
    "    StructField(\"review_headline\", StringType(), False),\n",
    "    StructField(\"review_body\", StringType(), False),\n",
    "    StructField(\"review_date\",DateType(),False)])\n",
    "\n",
    "aws_product_review_schema_limited = StructType([\n",
    "    StructField(\"customer_id\", StringType(), True),\n",
    "    StructField(\"review_id\", StringType(), True),\n",
    "    StructField(\"product_id\",StringType(),True),\n",
    "    StructField(\"product_title\", StringType(), False),\n",
    "    StructField(\"product_category\", StringType(), False),\n",
    "    StructField(\"star_rating\", IntegerType(), False),\n",
    "    StructField(\"helpful_votes\",IntegerType(),False),\n",
    "    StructField(\"total_votes\", IntegerType(), False),\n",
    "    StructField(\"review_headline\", StringType(), False),\n",
    "    StructField(\"review_body\", StringType(), False),\n",
    "    StructField(\"review_date\",DateType(),False)])\n",
    "\n",
    "%time awsProductReview_raw_data = spark.read.csv(review_data,header=True,sep=\"\\t\",schema=aws_product_review_schema)\n"
   ]
  },
  {
   "cell_type": "code",
   "execution_count": 4,
   "metadata": {},
   "outputs": [
    {
     "name": "stdout",
     "output_type": "stream",
     "text": [
      "4751577\n",
      "100000\n"
     ]
    }
   ],
   "source": [
    "# when testing in local machine only \n",
    "print(awsProductReview_raw_data.count())\n",
    "# limit to 1 mil\n",
    "awsProductReview_raw_data = awsProductReview_raw_data.limit(100000)\n",
    "print(awsProductReview_raw_data.count())"
   ]
  },
  {
   "cell_type": "code",
   "execution_count": 5,
   "metadata": {},
   "outputs": [],
   "source": [
    "dfProductReview = awsProductReview_raw_data.drop('vine').drop('verified_purchase') \\\n",
    "                    .drop('product_parent').drop('marketplace')"
   ]
  },
  {
   "cell_type": "code",
   "execution_count": 6,
   "metadata": {},
   "outputs": [
    {
     "name": "stdout",
     "output_type": "stream",
     "text": [
      "number of rows before filter: 100000\n",
      "number of rows after filter: 99977\n"
     ]
    }
   ],
   "source": [
    "# remove rows with no review text \n",
    "print(\"number of rows before filter: {0}\".format(dfProductReview.count()))\n",
    "dfFilteredReviews = dfProductReview.na.drop(subset=[\"review_body\"])\n",
    "print(\"number of rows after filter: {0}\".format(dfFilteredReviews.count()))"
   ]
  },
  {
   "cell_type": "markdown",
   "metadata": {},
   "source": [
    "## Stage One: Overall statistics\n",
    "\n",
    "### Produce overall summary statistics of the data set, in particular,\n",
    "\n",
    "* the total number of reviews\n",
    "* the number of unique users\n",
    "* the number of unique products"
   ]
  },
  {
   "cell_type": "code",
   "execution_count": 7,
   "metadata": {},
   "outputs": [
    {
     "name": "stdout",
     "output_type": "stream",
     "text": [
      "+----------------+---------------+-------------+\n",
      "|unique_customers|unique_products|total_reviews|\n",
      "+----------------+---------------+-------------+\n",
      "|           57062|          58745|        99977|\n",
      "+----------------+---------------+-------------+\n",
      "\n"
     ]
    }
   ],
   "source": [
    "from pyspark.sql.functions import col, count, countDistinct, when, isnull\n",
    "\n",
    "dfOverallStats = dfFilteredReviews.agg(countDistinct(\"customer_id\").alias(\"unique_customers\"), \\\n",
    "                    countDistinct(\"product_id\").alias(\"unique_products\"), \\\n",
    "                    count(col=\"review_id\").alias(\"total_reviews\")) \\\n",
    "\n",
    "dfOverallStats.show()"
   ]
  },
  {
   "cell_type": "code",
   "execution_count": 8,
   "metadata": {},
   "outputs": [
    {
     "name": "stdout",
     "output_type": "stream",
     "text": [
      "+-----------+---------+----------+-------------+----------------+-----------+-------------+-----------+---------------+-----------+-----------+\n",
      "|customer_id|review_id|product_id|product_title|product_category|star_rating|helpful_votes|total_votes|review_headline|review_body|review_date|\n",
      "+-----------+---------+----------+-------------+----------------+-----------+-------------+-----------+---------------+-----------+-----------+\n",
      "|          0|        0|         0|            0|               0|          0|            0|          0|              0|          0|          0|\n",
      "+-----------+---------+----------+-------------+----------------+-----------+-------------+-----------+---------------+-----------+-----------+\n",
      "\n"
     ]
    }
   ],
   "source": [
    "# CHECK IN ALL THE COLUMNS IF THERE IS ANY NULL VALUE.\n",
    "dfFilteredReviews.select([count(when(isnull(column), column)).alias(column) \\\n",
    "                        for column in dfProductReview.columns]).show()"
   ]
  },
  {
   "cell_type": "markdown",
   "metadata": {},
   "source": [
    "### For user-review distribution, you are asked to find out:\n",
    "\n",
    "* the largest number of reviews published by a single user\n",
    "* the top 10 users ranked by the number of reviews they publish\n",
    "* the median number of reviews published by a user"
   ]
  },
  {
   "cell_type": "code",
   "execution_count": 9,
   "metadata": {},
   "outputs": [
    {
     "name": "stdout",
     "output_type": "stream",
     "text": [
      "Top Reviewer:\n",
      "+-----------+-------------+\n",
      "|customer_id|total_reviews|\n",
      "+-----------+-------------+\n",
      "|   15536614|          373|\n",
      "+-----------+-------------+\n",
      "only showing top 1 row\n",
      "\n",
      "Top 10 Reviewers:\n",
      "+-----------+-------------+\n",
      "|customer_id|total_reviews|\n",
      "+-----------+-------------+\n",
      "|   15536614|          373|\n",
      "|   38214553|          226|\n",
      "|    4276914|          222|\n",
      "|    8342883|          194|\n",
      "|    5291529|          190|\n",
      "|   13634768|          180|\n",
      "|    2112938|          126|\n",
      "|   38229524|           98|\n",
      "|   48046800|           97|\n",
      "|   22716027|           92|\n",
      "+-----------+-------------+\n",
      "only showing top 10 rows\n",
      "\n",
      "median number of 1.0 reviews published by user\n"
     ]
    }
   ],
   "source": [
    "from pyspark.sql.window import Window\n",
    "from pyspark.sql.functions import count\n",
    "import pyspark.sql.functions as F\n",
    "\n",
    "dfUserReviewCounts = helper.distributionStats(dfRecords=dfFilteredReviews.select(\"customer_id\", \"review_id\"), \\\n",
    "                                              partitionBy=\"customer_id\",countBy=\"review_id\", \\\n",
    "                                              returnCountName=\"total_reviews\")\n",
    "print(\"Top Reviewer:\")\n",
    "dfUserReviewCounts.show(1)\n",
    "print(\"Top 10 Reviewers:\")\n",
    "dfUserReviewCounts.show(10)\n",
    "\n",
    "user_review_median=dfUserReviewCounts.approxQuantile(\"total_reviews\", [0.50], 0)[0]\n",
    "print(\"median number of {0} reviews published by user\".format(user_review_median))"
   ]
  },
  {
   "cell_type": "markdown",
   "metadata": {},
   "source": [
    "### For product-review distribution, you are asked to find out:\n",
    "    \n",
    "* the largest number of reviews written for a single product\n",
    "* the top 10 products ranked by the number of reviews they have\n",
    "* the median number of reviews a product has"
   ]
  },
  {
   "cell_type": "code",
   "execution_count": 10,
   "metadata": {},
   "outputs": [
    {
     "name": "stdout",
     "output_type": "stream",
     "text": [
      "Top Product By Review:\n",
      "+----------+-------------+\n",
      "|product_id|total_reviews|\n",
      "+----------+-------------+\n",
      "|B00VXGTJMU|          256|\n",
      "+----------+-------------+\n",
      "only showing top 1 row\n",
      "\n",
      "Top 10 Products by Reviews:\n",
      "+----------+-------------+\n",
      "|product_id|total_reviews|\n",
      "+----------+-------------+\n",
      "|B00VXGTJMU|          256|\n",
      "|B00VMRJPCE|          255|\n",
      "|B00UCFVIDQ|          205|\n",
      "|B00VMQK37Q|          170|\n",
      "|B00ZQUP38S|          158|\n",
      "|B00WE2SMKC|          139|\n",
      "|B00WSOWR0M|          120|\n",
      "|B00MRHANNI|          116|\n",
      "|B00VTBBEL8|          115|\n",
      "|B00XJJAWES|          112|\n",
      "+----------+-------------+\n",
      "only showing top 10 rows\n",
      "\n",
      "median number of 1 reviews per product\n"
     ]
    }
   ],
   "source": [
    "dfProductReviewCounts = helper.distributionStats(dfRecords=dfProductReview.select(\"product_id\", \"review_id\"), \\\n",
    "                                              partitionBy=\"product_id\",countBy=\"review_id\", \\\n",
    "                                              returnCountName=\"total_reviews\")\n",
    "print(\"Top Product By Review:\")\n",
    "dfProductReviewCounts.show(1)\n",
    "print(\"Top 10 Products by Reviews:\")\n",
    "dfProductReviewCounts.show(10)\n",
    "\n",
    "product_review_median=int(dfProductReviewCounts.approxQuantile(\"total_reviews\", [0.50], 0)[0])\n",
    "print(\"median number of {0} reviews per product\".format(product_review_median))"
   ]
  },
  {
   "cell_type": "markdown",
   "metadata": {},
   "source": [
    "## Stage Two: Filtering Unwanted Data\n",
    "\n",
    "filter reviews based on length, reviewer and product feature. In particular, the following reviews should be removed:\n",
    "\n",
    "* reviews with less than two sentences in the review body.\n",
    "* reviews published by users with less than median number of reviews published\n",
    "* reviews from products with less than median number of reviews received\n",
    "\n",
    "NOTE: Sentence Segmentation Using: NLTK"
   ]
  },
  {
   "cell_type": "code",
   "execution_count": 11,
   "metadata": {},
   "outputs": [
    {
     "name": "stdout",
     "output_type": "stream",
     "text": [
      "number of rows before filter: 99977\n",
      "+-----------+--------------+----------+--------------------+----------------+-----------+-------------+-----------+--------------------+--------------------+-----------+\n",
      "|customer_id|     review_id|product_id|       product_title|product_category|star_rating|helpful_votes|total_votes|     review_headline|         review_body|review_date|\n",
      "+-----------+--------------+----------+--------------------+----------------+-----------+-------------+-----------+--------------------+--------------------+-----------+\n",
      "|   27664622|R3LGC3EKEG84PX|B00B6QXN6U|Same Trailer Diff...|           Music|          5|            0|          0|A new fave in our...|This is the album...| 2015-08-31|\n",
      "+-----------+--------------+----------+--------------------+----------------+-----------+-------------+-----------+--------------------+--------------------+-----------+\n",
      "only showing top 1 row\n",
      "\n",
      "number of rows post filter: 28955\n"
     ]
    }
   ],
   "source": [
    "# reviews with less than 2 sentences in review_body\n",
    "# convert to RDD and carry out a filter to remove rows with less than 2 sentences \n",
    "\n",
    "print(\"number of rows before filter: {0}\".format(dfFilteredReviews.count()))\n",
    "\n",
    "dfFilteredReviews = dfFilteredReviews.filter(helper.FilterSentences('review_body'))\n",
    "\n",
    "dfFilteredReviews.show(1)\n",
    "dfFilteredReviews.cache()\n",
    "\n",
    "print(\"number of rows post filter: {0}\".format(dfFilteredReviews.count()))"
   ]
  },
  {
   "cell_type": "code",
   "execution_count": 12,
   "metadata": {},
   "outputs": [
    {
     "name": "stdout",
     "output_type": "stream",
     "text": [
      "number of rows before filter: 28955\n",
      "number of rows post filter: 28955\n"
     ]
    }
   ],
   "source": [
    "# user review filter \n",
    "print(\"number of rows before filter: {0}\".format(dfFilteredReviews.count()))\n",
    "\n",
    "window = Window.partitionBy(\"customer_id\")\n",
    "dfFilteredReviews = dfFilteredReviews \\\n",
    "    .withColumn(\"review_count\", count(\"review_id\") \\\n",
    "    .over(window)) \\\n",
    "    .filter(col(\"review_count\") >= user_review_median) \\\n",
    "    .drop(\"review_count\")\n",
    "\n",
    "print(\"number of rows post filter: {0}\".format(dfFilteredReviews.count()))"
   ]
  },
  {
   "cell_type": "code",
   "execution_count": 13,
   "metadata": {},
   "outputs": [
    {
     "name": "stdout",
     "output_type": "stream",
     "text": [
      "number of rows before filter: 28955\n",
      "number of rows post filter: 28955\n"
     ]
    }
   ],
   "source": [
    "# product review filter\n",
    "print(\"number of rows before filter: {0}\".format(dfFilteredReviews.count()))\n",
    "\n",
    "window = Window.partitionBy(\"product_id\")\n",
    "dfFilteredReviews = dfFilteredReviews \\\n",
    "    .withColumn(\"review_count\", count(\"review_id\") \\\n",
    "    .over(window)) \\\n",
    "    .filter(col(\"review_count\") >= product_review_median) \\\n",
    "    .drop(\"review_count\")\n",
    "\n",
    "print(\"number of rows post filter: {0}\".format(dfFilteredReviews.count()))"
   ]
  },
  {
   "cell_type": "code",
   "execution_count": 14,
   "metadata": {},
   "outputs": [
    {
     "name": "stdout",
     "output_type": "stream",
     "text": [
      "Original Number of Rows before cleanup: 100000\n",
      "Number of rows after all filters applied: 28955\n"
     ]
    }
   ],
   "source": [
    "print(\"Original Number of Rows before cleanup: {0}\".format(dfProductReview.count()))\n",
    "print(\"Number of rows after all filters applied: {0}\".format(dfFilteredReviews.count()))"
   ]
  },
  {
   "cell_type": "code",
   "execution_count": 15,
   "metadata": {},
   "outputs": [
    {
     "data": {
      "text/plain": [
       "DataFrame[customer_id: string, review_id: string, product_id: string, product_title: string, product_category: string, star_rating: int, helpful_votes: int, total_votes: int, review_headline: string, review_body: string, review_date: date]"
      ]
     },
     "execution_count": 15,
     "metadata": {},
     "output_type": "execute_result"
    }
   ],
   "source": [
    "dfFilteredReviews.cache()"
   ]
  },
  {
   "cell_type": "markdown",
   "metadata": {},
   "source": [
    "#### After filtering out the above, find out:\n",
    "\n",
    "* top 10 users ranked by median number of sentences in the reviews they have published\n",
    "* top 10 products ranked by median number of sentences in the reviews they have received"
   ]
  },
  {
   "cell_type": "code",
   "execution_count": 16,
   "metadata": {},
   "outputs": [
    {
     "name": "stdout",
     "output_type": "stream",
     "text": [
      "+-----------+------------+\n",
      "|customer_id|median_sents|\n",
      "+-----------+------------+\n",
      "|   49745257|         241|\n",
      "|   49754397|         239|\n",
      "|   14678937|         155|\n",
      "|   22434772|         127|\n",
      "|   20894201|         103|\n",
      "|   25007515|          87|\n",
      "|    1459729|          82|\n",
      "|   51979520|          82|\n",
      "|   49758023|          79|\n",
      "|   34564717|          77|\n",
      "+-----------+------------+\n",
      "\n"
     ]
    }
   ],
   "source": [
    "# top 10 users ranked by median number of sentences in the reviews they have published\n",
    "dfTop10UsersBySents = helper.getTopBySentMedian(dfRecords=dfFilteredReviews, \\\n",
    "                                                partitionBy=\"customer_id\", \\\n",
    "                                                textCol=\"review_body\",\\\n",
    "                                                medianColName=\"median_sents\",n=10)\n",
    "dfTop10UsersBySents.show()"
   ]
  },
  {
   "cell_type": "code",
   "execution_count": 17,
   "metadata": {},
   "outputs": [
    {
     "name": "stdout",
     "output_type": "stream",
     "text": [
      "+----------+------------+\n",
      "|product_id|median_sents|\n",
      "+----------+------------+\n",
      "|B003ZUCXP2|         217|\n",
      "|B010SOIC5C|         194|\n",
      "|B00Q9H9GBM|         151|\n",
      "|B003UUQ7OK|         150|\n",
      "|B000007WPE|         148|\n",
      "|B00FY3X5GO|         146|\n",
      "|B00FG1EVUS|         145|\n",
      "|B003XD03DU|         134|\n",
      "|B012IV1E62|         134|\n",
      "|B00GG3JEU2|         134|\n",
      "+----------+------------+\n",
      "\n"
     ]
    }
   ],
   "source": [
    "# top 10 products ranked by median number of sentences in the reviews they have received\n",
    "dfTop10ProductsBySents = helper.getTopBySentMedian(dfRecords=dfFilteredReviews, \\\n",
    "                                                   partitionBy=\"product_id\", \\\n",
    "                                                   textCol=\"review_body\", \\\n",
    "                                                   medianColName=\"median_sents\",n=10)\n",
    "\n",
    "dfTop10ProductsBySents.show(10)"
   ]
  },
  {
   "cell_type": "code",
   "execution_count": 18,
   "metadata": {},
   "outputs": [],
   "source": [
    "# save the cleaned and filtered dataframe to file system \n",
    "\n",
    "#dfFilteredReviews.coalesce(1).write.format(\"parquet\") \\\n",
    "#    .option(\"header\", \"true\").saveAsTable('filteredReviews',mode=\"overwrite\")\n",
    "dfFilteredReviews.coalesce(1).write.csv(\"../output\",mode=\"overwrite\",header=True,sep=\"\\t\")"
   ]
  },
  {
   "cell_type": "markdown",
   "metadata": {},
   "source": [
    "## Stage 3 Similarity analysis with Sentence Embedding\n",
    "\n",
    "perform similarity analysis on the review sentences. The analysis involves segmenting review body into multiple sentences; encoding each sentence as vector so that the distance between pair of sentences can be computed.\n",
    "\n",
    "### Positive vs. Negative Reviews\n",
    "\n",
    "* pick a product from the top 10 products in stage 1\n",
    "* Create a positive and negative class of reviews using the rating \n",
    "    - Positive Class - rate >=4 \n",
    "    - Negative Class - rate <= 2\n",
    "    - for each review, extracting the review body part and segment it into multiple sentences.\n",
    "    - encode the sentences using google universal encoder"
   ]
  },
  {
   "cell_type": "code",
   "execution_count": 19,
   "metadata": {},
   "outputs": [],
   "source": [
    "filtered_data = \"../output/part-*.csv\"\n",
    "dfBaseDataset = spark.read.csv(filtered_data,header=True,sep=\"\\t\",schema=aws_product_review_schema_limited)"
   ]
  },
  {
   "cell_type": "code",
   "execution_count": 20,
   "metadata": {},
   "outputs": [],
   "source": [
    "# product from top 10 by review number \n",
    "base_product_id = \"B00MIA0KGY\"\n",
    "\n",
    "dfSelectedProduct = dfBaseDataset.where((col(\"product_id\") == base_product_id))\n",
    "dfPositiveClass = dfBaseDataset.where((col(\"product_id\") == base_product_id) & (col(\"star_rating\") >= 4))\n",
    "dfNegativeClass = dfBaseDataset.where((col(\"product_id\") == base_product_id) & (col(\"star_rating\") <= 2))"
   ]
  },
  {
   "cell_type": "code",
   "execution_count": 21,
   "metadata": {},
   "outputs": [
    {
     "name": "stdout",
     "output_type": "stream",
     "text": [
      "number of reviews from B00MIA0KGY: 14\n",
      "number of positives reviews from B00MIA0KGY: 11\n",
      "number of negatives reviews from B00MIA0KGY: 1\n"
     ]
    }
   ],
   "source": [
    "print(\"number of reviews from {0}: {1}\".format(base_product_id, dfSelectedProduct.count()))\n",
    "print(\"number of positives reviews from {0}: {1}\".format(base_product_id,dfPositiveClass.count()))\n",
    "print(\"number of negatives reviews from {0}: {1}\".format(base_product_id,dfNegativeClass.count()))\n",
    "\n"
   ]
  },
  {
   "cell_type": "markdown",
   "metadata": {},
   "source": [
    "### Extract the sentences - similar to flatMap"
   ]
  },
  {
   "cell_type": "code",
   "execution_count": 22,
   "metadata": {},
   "outputs": [
    {
     "name": "stdout",
     "output_type": "stream",
     "text": [
      "number of sentences from positive reviews: 75\n"
     ]
    }
   ],
   "source": [
    "# for each review, extract the review body part and segment it into multiple sentences\n",
    "# extract the positive sentences\n",
    "dfPosSents = dfPositiveClass.select(\"review_id\",\"review_body\") \\\n",
    "    .withColumn(\"sentences\", helper.GenerateSentences(\"review_body\")) \\\n",
    "    .select(\"review_id\", F.explode_outer(\"sentences\").alias(\"sentence\"))\n",
    "\n",
    "print(\"number of sentences from positive reviews: {0}\".format(dfPosSents.count()))"
   ]
  },
  {
   "cell_type": "code",
   "execution_count": 23,
   "metadata": {},
   "outputs": [
    {
     "name": "stdout",
     "output_type": "stream",
     "text": [
      "number of sentences from negative reviews: 4\n",
      "+--------------+--------------------+\n",
      "|     review_id|            sentence|\n",
      "+--------------+--------------------+\n",
      "|R3VTZ9CGH2A2BZ|I thought I would...|\n",
      "|R3VTZ9CGH2A2BZ|Didn't enjoy a si...|\n",
      "|R3VTZ9CGH2A2BZ|Her Duets album w...|\n",
      "|R3VTZ9CGH2A2BZ|I'll be REselling...|\n",
      "+--------------+--------------------+\n",
      "\n"
     ]
    }
   ],
   "source": [
    "# extract the negative sentences\n",
    "dfNegSents = dfNegativeClass.select(\"review_id\",\"review_body\") \\\n",
    "    .withColumn(\"sentences\", helper.GenerateSentences(\"review_body\")) \\\n",
    "    .select(\"review_id\", F.explode_outer(\"sentences\").alias(\"sentence\"))\n",
    "\n",
    "print(\"number of sentences from negative reviews: {0}\".format(dfNegSents.count()))\n",
    "\n",
    "dfNegSents.show()"
   ]
  },
  {
   "cell_type": "markdown",
   "metadata": {},
   "source": [
    "### Encoding the sentences - google universal encoder "
   ]
  },
  {
   "cell_type": "code",
   "execution_count": 25,
   "metadata": {},
   "outputs": [],
   "source": [
    "import tensorflow as tf\n",
    "import tensorflow_hub as hub\n",
    "import numpy as np\n",
    "from pyspark.sql.types import StructType, StructField, StringType,IntegerType, FloatType,BooleanType,DateType,ArrayType\n"
   ]
  },
  {
   "cell_type": "code",
   "execution_count": 95,
   "metadata": {},
   "outputs": [],
   "source": [
    "# Processing the data for embedding: first step selecting the sentence column from the \n",
    "# data frames sentences. not sure why it doesn't work if don't use '.limit()' even if\n",
    "# dataframe is short \n",
    "pos_rev_text = dfPosSents.limit(1000).select('sentence')\n",
    "#second: convert the dataframe to rdd pipeline\n",
    "pos_rev_clean_text_rdd = pos_rev_text.rdd.map(lambda row: str(row[0])) \\\n",
    "                    .filter(lambda data: data is not None).cache()\n",
    "\n",
    "neg_rev_text = dfNegSents.limit(1000).select('sentence')\n",
    "#second: convert the dataframe to rdd pipeline\n",
    "neg_rev_clean_text_rdd = neg_rev_text.rdd.map(lambda row: str(row[0])) \\\n",
    "                    .filter(lambda data: data is not None).cache()"
   ]
  },
  {
   "cell_type": "code",
   "execution_count": 96,
   "metadata": {},
   "outputs": [],
   "source": [
    "## function from lab 9\n",
    "def review_embed(rev_text_partition):\n",
    "    module_url = \"https://tfhub.dev/google/universal-sentence-encoder/2\" #@param [\"https://tfhub.dev/google/universal-sentence-encoder/2\", \"https://tfhub.dev/google/universal-sentence-encoder-large/3\"]\n",
    "    embed = hub.Module(module_url)\n",
    "    # mapPartition would supply element inside a partition using generator stype\n",
    "    # this does not fit tensorflow stype\n",
    "    rev_text_list = [text for text in rev_text_partition]\n",
    "    with tf.Session() as session:\n",
    "        session.run([tf.global_variables_initializer(), tf.tables_initializer()])\n",
    "        message_embeddings = session.run(embed(rev_text_list))\n",
    "    \n",
    "    return message_embeddings\n",
    "\n"
   ]
  },
  {
   "cell_type": "code",
   "execution_count": 97,
   "metadata": {},
   "outputs": [],
   "source": [
    "# getting the embedding from sentences\n",
    "positive_review_embedding = pos_rev_clean_text_rdd.mapPartitions(review_embed).cache()\n",
    "negative_review_embedding = neg_rev_clean_text_rdd.mapPartitions(review_embed).cache()\n"
   ]
  },
  {
   "cell_type": "code",
   "execution_count": 98,
   "metadata": {},
   "outputs": [
    {
     "data": {
      "text/plain": [
       "array([-2.29360759e-02, -7.71128610e-02,  1.08671496e-02, -2.26527657e-02,\n",
       "       -1.42055964e-02,  4.51085623e-03, -2.69437823e-02, -6.63384870e-02,\n",
       "        2.49271002e-02,  3.28172594e-02,  7.84407631e-02, -2.33665463e-02,\n",
       "       -5.13132662e-02,  8.24994445e-02,  2.22025961e-02,  2.84204148e-02,\n",
       "       -8.21404681e-02,  3.57403373e-03,  1.73447020e-02, -2.06466485e-02,\n",
       "        6.40797466e-02, -9.52492207e-02,  1.36482595e-02, -4.48517874e-02,\n",
       "        1.92933846e-02,  4.03569601e-02, -4.24939431e-02, -8.80729407e-02,\n",
       "       -5.51371314e-02,  2.85780821e-02, -7.24689336e-03,  4.83036302e-02,\n",
       "        1.93823371e-02,  6.25806227e-02,  5.95747046e-02,  1.31674418e-02,\n",
       "       -4.57846038e-02,  4.29204926e-02,  1.27157327e-02, -2.83983871e-02,\n",
       "        4.56347391e-02,  7.72189535e-03, -6.26320466e-02, -2.02600919e-02,\n",
       "       -8.60578381e-03, -6.87528262e-03,  8.81018955e-03, -4.72780019e-02,\n",
       "        1.41477585e-02,  6.87720478e-02, -1.73657518e-02,  1.34534035e-02,\n",
       "       -5.27658761e-02, -1.69640537e-02,  6.17315546e-02,  4.44965884e-02,\n",
       "        2.40156297e-02, -1.15857506e-02, -4.50376160e-02,  2.52092853e-02,\n",
       "        6.85529858e-02,  5.37190847e-02, -1.16876867e-02, -6.07462004e-02,\n",
       "        1.41529329e-02, -1.54168522e-02,  5.26796915e-02, -2.98709553e-02,\n",
       "       -2.55335346e-02,  8.98373351e-02, -2.84530353e-02,  7.98624158e-02,\n",
       "       -3.76487859e-02, -8.26422870e-03,  1.27939107e-02,  1.68957617e-02,\n",
       "        1.14843957e-01, -4.49558254e-03, -2.58639194e-02,  9.22437459e-02,\n",
       "        1.70922074e-02,  1.76370628e-02,  2.56729107e-02,  2.76308917e-02,\n",
       "        6.31237123e-03, -5.62118031e-02, -5.93773574e-02, -8.80304317e-04,\n",
       "       -2.64280709e-03, -5.56083135e-02,  4.55815047e-02, -7.59309484e-03,\n",
       "        2.49132290e-02,  3.24257463e-03, -3.99339050e-02, -1.67662334e-02,\n",
       "       -1.63732730e-02,  5.18623041e-03, -3.43270712e-02,  8.07608142e-02,\n",
       "        8.74512717e-02, -2.88022161e-02, -2.98036356e-02,  3.84847447e-02,\n",
       "        4.00682129e-02,  8.67188647e-02,  7.12317452e-02, -1.04245553e-02,\n",
       "        2.39847936e-02,  2.76050880e-03,  2.63461135e-02, -2.29745656e-02,\n",
       "       -3.81819680e-02, -8.29121750e-03, -2.76803225e-02,  4.72719111e-02,\n",
       "        1.45121239e-05, -1.01105064e-01, -6.24289289e-02, -1.85960867e-02,\n",
       "        2.46612020e-02,  9.15171672e-03,  2.78086737e-02,  2.82187313e-02,\n",
       "       -1.14683649e-02, -8.71847346e-02, -2.39673126e-02,  4.66236621e-02,\n",
       "        9.25255194e-03, -5.23189418e-02, -1.09616257e-01,  6.73359260e-03,\n",
       "        3.67871970e-02, -1.35099329e-02,  2.36144010e-03, -2.82653775e-02,\n",
       "       -9.55526605e-02,  4.30998094e-02,  8.84556174e-02, -2.94871088e-02,\n",
       "        2.96935551e-02, -3.63585576e-02, -5.54367714e-02, -1.17338598e-01,\n",
       "        1.19906878e-02, -1.40934838e-02,  1.63466521e-02,  1.94053650e-02,\n",
       "       -2.76529025e-02,  4.66599017e-02,  1.34585332e-02, -6.38449043e-02,\n",
       "        6.16334677e-02, -2.97026522e-02, -4.18541841e-02, -7.21043199e-02,\n",
       "       -7.28962421e-02,  3.80394608e-02,  2.59210635e-03, -4.73475046e-02,\n",
       "       -6.59887493e-02,  1.85085814e-02, -8.30690749e-03,  2.73086745e-02,\n",
       "        9.58043486e-02, -2.84198672e-02,  3.48557569e-02,  3.92116830e-02,\n",
       "       -8.77440944e-02,  2.08691088e-03, -6.36071246e-03,  9.14654210e-02,\n",
       "        2.19143033e-02, -2.12528724e-02,  1.09726913e-01, -2.91494094e-02,\n",
       "        6.41633868e-02,  3.45750563e-02, -7.23661780e-02,  7.35782459e-02,\n",
       "        3.10319606e-02,  4.29481901e-02,  6.71502277e-02,  1.75197236e-02,\n",
       "        2.86600925e-02, -5.56031875e-02,  1.29859298e-02, -5.32319583e-03,\n",
       "        8.80437903e-04,  1.63619835e-02, -7.39815459e-03, -3.42856646e-02,\n",
       "        2.32845005e-02,  2.11243238e-02, -1.36325872e-02, -6.26846850e-02,\n",
       "        3.03919017e-02,  6.79680184e-02, -7.38226750e-04, -4.65135410e-04,\n",
       "       -5.63316699e-03, -2.50000563e-02,  2.19141077e-02,  7.52958730e-02,\n",
       "        4.23733816e-02, -3.65996324e-02,  1.46492552e-02,  5.66203184e-02,\n",
       "        5.77329192e-03, -1.19397379e-02,  8.87545124e-02, -4.92126718e-02,\n",
       "        2.54296642e-02,  7.53555596e-02, -6.10853806e-02,  2.18367670e-02,\n",
       "        3.43224290e-03,  8.24941620e-02,  6.77436441e-02,  2.49838457e-02,\n",
       "       -9.35513806e-03, -1.44011471e-02,  2.75423583e-02, -4.85769957e-02,\n",
       "       -3.37020215e-03, -4.47592027e-02, -1.27369696e-02,  2.01490130e-02,\n",
       "       -9.90957581e-03, -2.78952960e-02,  2.93588149e-03, -1.12014357e-02,\n",
       "       -1.01823676e-02,  2.86563542e-02,  2.61239894e-02, -1.19473785e-02,\n",
       "       -4.74018715e-02,  4.50130217e-02, -2.24533789e-02, -4.74618981e-03,\n",
       "        6.24135435e-02, -1.40432697e-02,  1.72847211e-02,  6.26997044e-03,\n",
       "       -2.47095544e-02,  4.68829274e-03,  1.56837255e-02,  2.86440682e-02,\n",
       "        6.90413499e-03, -2.13775598e-02, -4.02778946e-02, -3.24456580e-02,\n",
       "        2.02881098e-02,  3.37045006e-02,  4.03424725e-03,  5.45608215e-02,\n",
       "       -1.30054811e-02, -1.20121380e-02,  3.17760259e-02, -1.05983175e-01,\n",
       "        5.01475558e-02,  4.73931283e-02, -5.87072596e-02,  5.74009046e-02,\n",
       "        3.16526033e-02,  6.71448186e-02,  8.05796962e-03,  2.15359274e-02,\n",
       "       -8.15077778e-03, -1.98892783e-03,  5.91530465e-02,  7.02126771e-02,\n",
       "       -5.68141490e-02, -6.46120161e-02, -1.01275988e-01,  3.11451722e-02,\n",
       "        6.29111975e-02,  5.17962314e-02,  6.60358602e-03,  1.53442733e-02,\n",
       "       -4.53841910e-02, -7.05585927e-02,  1.60850789e-02,  6.42883852e-02,\n",
       "       -3.21652927e-02, -1.83783174e-02, -1.96769834e-02,  1.22324973e-02,\n",
       "       -2.21084189e-02,  2.56572310e-02, -6.60978481e-02, -7.80877993e-02,\n",
       "        6.62328452e-02, -6.43665865e-02,  7.06215575e-02,  1.01091713e-01,\n",
       "       -1.84298009e-02,  5.93589656e-02,  6.63883090e-02, -4.93229786e-03,\n",
       "       -5.28299399e-02, -1.25985006e-02,  2.09381990e-02,  6.55583516e-02,\n",
       "       -7.79372230e-02, -1.52113419e-02, -5.24837747e-02,  4.88098292e-03,\n",
       "       -3.02317031e-02, -4.76522520e-02,  5.00330366e-02,  1.36089399e-02,\n",
       "        2.69662477e-02, -2.15094574e-02,  4.04170640e-02,  2.99329795e-02,\n",
       "        3.70209850e-02, -4.30467911e-02, -1.31804943e-02, -1.96586754e-02,\n",
       "        6.83942139e-02, -6.74412993e-04,  6.08525425e-02,  6.36268826e-03,\n",
       "       -5.57729676e-02, -5.82503043e-02,  6.97118491e-02, -2.92774457e-02,\n",
       "       -3.60640930e-04, -3.77746904e-03, -1.13939382e-02,  8.38309713e-03,\n",
       "       -7.12012723e-02, -8.51307586e-02,  3.12035028e-02, -1.21743605e-02,\n",
       "       -3.71753946e-02,  7.39090294e-02, -2.30081324e-02, -5.44096518e-04,\n",
       "        1.84238292e-02,  1.83167737e-02, -1.45162614e-02,  3.11695226e-02,\n",
       "        6.24474175e-02, -3.66416536e-02, -2.23989151e-02,  4.52406444e-02,\n",
       "        2.65785819e-03, -1.52809462e-02,  8.58217403e-02, -5.03913462e-02,\n",
       "       -4.06812690e-02,  8.49326551e-02, -6.23164028e-02, -2.64062006e-02,\n",
       "       -3.69203426e-02, -2.01513823e-02,  7.65106529e-02, -3.12508978e-02,\n",
       "        7.73424134e-02,  3.42198312e-02, -4.17409204e-02, -2.78913882e-03,\n",
       "        3.54033820e-02, -1.44983400e-02,  4.14098762e-02,  7.50364289e-02,\n",
       "        4.48458493e-02,  2.78967619e-02,  5.55388350e-03,  2.52303458e-03,\n",
       "        3.18350294e-03, -3.47100608e-02,  2.71699224e-02, -4.37216125e-02,\n",
       "        5.56295104e-02, -8.84556957e-03, -2.85316277e-02,  2.42982861e-02,\n",
       "        4.27081324e-02, -7.56258965e-02,  1.99726541e-02,  1.50088780e-02,\n",
       "        2.96922084e-02,  7.45519577e-03,  9.10286531e-02, -3.18668969e-02,\n",
       "       -9.37056839e-02, -1.67076185e-03, -4.84911306e-03, -1.93897989e-02,\n",
       "       -4.80910875e-02,  5.33673689e-02,  1.83152454e-03,  3.36613245e-02,\n",
       "       -1.80603452e-02,  6.98820427e-02,  5.58471307e-02, -2.22718269e-02,\n",
       "       -4.36317548e-03,  3.32450755e-02, -8.81926268e-02, -5.49228415e-02,\n",
       "       -6.85678376e-03,  4.02984023e-03, -3.30812000e-02,  4.48436514e-02,\n",
       "       -2.85820290e-02, -1.58075988e-02, -1.96240433e-02,  5.61277904e-02,\n",
       "       -3.89248803e-02,  7.78431492e-03,  1.99100114e-02,  6.71064034e-02,\n",
       "       -1.34798535e-03,  2.31820550e-02,  2.73433235e-02, -3.35063264e-02,\n",
       "        1.98553447e-02, -3.08940969e-02, -6.16299047e-04,  1.37092583e-02,\n",
       "        4.34634695e-03, -4.14058268e-02, -3.60013964e-03,  1.84466160e-04,\n",
       "       -2.12457832e-02, -4.33520786e-03,  5.23327887e-02, -2.05157548e-02,\n",
       "        5.88531010e-02, -1.97949968e-02, -3.39866951e-02, -4.36355658e-02,\n",
       "        4.81973402e-02,  8.74858052e-02, -4.62327227e-02, -2.00745836e-03,\n",
       "        4.62730676e-02, -5.52227013e-02, -4.99080820e-03,  6.14560321e-02,\n",
       "        3.39887068e-02,  1.16310278e-02, -2.80716951e-04,  5.00007272e-02,\n",
       "        5.27293757e-02,  1.62230269e-03, -1.44769726e-02, -1.30917346e-02,\n",
       "       -4.16172482e-02, -1.46511933e-02,  2.53992490e-02, -8.30997601e-02,\n",
       "        8.34580213e-02, -1.44410441e-02, -4.74408679e-02,  1.04233492e-02,\n",
       "        5.47752436e-03,  1.12270312e-02,  2.69441167e-04,  8.51861015e-03,\n",
       "        1.10256206e-02, -7.55832344e-02,  2.49143094e-02, -1.00363411e-01,\n",
       "       -2.90213022e-02, -3.57229188e-02,  1.37986131e-02,  2.46085785e-02,\n",
       "        2.04829294e-02,  9.73561928e-02,  3.82720716e-02,  4.68602926e-02,\n",
       "       -7.67115280e-02,  4.89510745e-02, -1.06647378e-02, -4.45698984e-02,\n",
       "        1.15048690e-02,  4.53339377e-03,  1.62757728e-02,  7.00571910e-02,\n",
       "       -2.67722793e-02, -1.65773276e-02,  1.70340128e-02, -2.44383402e-02,\n",
       "       -5.88549301e-02, -2.72717550e-02, -2.18250100e-02,  4.51730825e-02,\n",
       "        5.49102090e-02,  9.48485658e-02, -1.47474306e-02, -2.89664115e-03,\n",
       "       -6.22432260e-03, -8.78656097e-03, -3.06212921e-02, -3.29248719e-02,\n",
       "       -1.25726860e-03,  2.82231998e-02,  3.31949815e-02,  4.78139287e-03,\n",
       "        1.13026500e-01, -6.27049059e-02,  2.05483530e-02, -5.40642720e-03,\n",
       "        7.07222298e-02,  1.30125228e-02, -8.43684301e-02, -5.87625653e-02],\n",
       "      dtype=float32)"
      ]
     },
     "execution_count": 98,
     "metadata": {},
     "output_type": "execute_result"
    }
   ],
   "source": [
    "negative_review_embedding.first()"
   ]
  },
  {
   "cell_type": "markdown",
   "metadata": {},
   "source": [
    "### Intra-Class Similarity\n",
    "\n",
    "We want to find out if sentences in the same category are closely related with each other. The closeness is measured by average distance between points in the class. In our case, point refers to the sentence encoding and pair-wise distance is measured by Cosine distance. Cosine distance is computed as “1 − CosineSimilarity”. It has a value between 0 and 2.\n"
   ]
  },
  {
   "cell_type": "code",
   "execution_count": 99,
   "metadata": {},
   "outputs": [],
   "source": [
    "# calculate the distances between vectors and average the results.\n",
    "from pyspark.ml.linalg import Vectors\n",
    "\n",
    "def CosineDistance(embedded_sentences):\n",
    "    \n",
    "    # transform the numpy arrays into pyspark Vectors\n",
    "    embedded_sentences_vect = embedded_sentences.map(Vectors.dense).cache()\n",
    "    \n",
    "    # collect the cartesian combination of the vectors\n",
    "    # eg: (vect1, vect1), (vect1, vect2),(vect1, vect3), etc... \n",
    "    # I am using cartesian here to avoid nested for loops in the Cosine Distance calculation.\n",
    "    cartesian_vector = embedded_sentences_vect.cartesian(embedded_sentences_vect).collect()\n",
    "    \n",
    "    distances = []\n",
    "    for v in cartesian_vector:\n",
    "        if v[0] != v[1]:\n",
    "            distance = 1 - (v[0].dot(v[1])/(v[0].norm(2)*v[1].norm(2)))\n",
    "            distances.append(distance)\n",
    "\n",
    "    return sum(distances)/len(distances)"
   ]
  },
  {
   "cell_type": "code",
   "execution_count": 69,
   "metadata": {},
   "outputs": [
    {
     "name": "stdout",
     "output_type": "stream",
     "text": [
      "Average cosine distance between positive reviews: 0.6659711894002901\n"
     ]
    }
   ],
   "source": [
    "pos_dist = CosineDistance(positive_review_embedding)\n",
    "print(\"Average cosine distance between positive reviews: {0}\".format(pos_dist))"
   ]
  },
  {
   "cell_type": "code",
   "execution_count": 101,
   "metadata": {},
   "outputs": [
    {
     "name": "stdout",
     "output_type": "stream",
     "text": [
      "Average cosine distance between negative reviews: 0.6777541090667892\n"
     ]
    }
   ],
   "source": [
    "neg_dist = CosineDistance(negative_review_embedding)\n",
    "print(\"Average cosine distance between negative reviews: {0}\".format(neg_dist))"
   ]
  },
  {
   "cell_type": "markdown",
   "metadata": {},
   "source": [
    "### Class Center Sentences\n",
    "\n",
    "Find out the class center and its 10 closest neighbours for positive and negative class respectively. We define class center as the point that has the smallest average distance to other points in the class. Again in this case point refers to the sentence encoding and pair-wise distance are measured by Cosine distance.\n",
    "The result should show the text of the center sentence, the review id it belongs to and its 10 closest neighbouring sentences text and their respective review id."
   ]
  },
  {
   "cell_type": "code",
   "execution_count": null,
   "metadata": {},
   "outputs": [],
   "source": []
  }
 ],
 "metadata": {
  "kernelspec": {
   "display_name": "Python 3",
   "language": "python",
   "name": "python3"
  },
  "language_info": {
   "codemirror_mode": {
    "name": "ipython",
    "version": 3
   },
   "file_extension": ".py",
   "mimetype": "text/x-python",
   "name": "python",
   "nbconvert_exporter": "python",
   "pygments_lexer": "ipython3",
   "version": "3.7.3"
  }
 },
 "nbformat": 4,
 "nbformat_minor": 2
}
